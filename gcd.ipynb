{
  "nbformat": 4,
  "nbformat_minor": 0,
  "metadata": {
    "colab": {
      "name": "gcd.ipynb",
      "provenance": [],
      "collapsed_sections": [],
      "authorship_tag": "ABX9TyPrDgwTYMrE7bovzpDlQGeg",
      "include_colab_link": true
    },
    "kernelspec": {
      "name": "python3",
      "display_name": "Python 3"
    }
  },
  "cells": [
    {
      "cell_type": "markdown",
      "metadata": {
        "id": "view-in-github",
        "colab_type": "text"
      },
      "source": [
        "<a href=\"https://colab.research.google.com/github/Arju5/pl-python/blob/main/gcd.ipynb\" target=\"_parent\"><img src=\"https://colab.research.google.com/assets/colab-badge.svg\" alt=\"Open In Colab\"/></a>"
      ]
    },
    {
      "cell_type": "code",
      "metadata": {
        "colab": {
          "base_uri": "https://localhost:8080/"
        },
        "id": "5khACjjqP-ih",
        "outputId": "1108422d-9990-4bb0-8d19-426148af0374"
      },
      "source": [
        "def gcd(x,y):\r\n",
        "  if(x<y):\r\n",
        "    smallest = x\r\n",
        "  else:\r\n",
        "    smallest = x\r\n",
        "  for i in range(1, smallest + 1):\r\n",
        "    if((x%i == 0) and (y%i == 0)):\r\n",
        "      gcd = i\r\n",
        "  \r\n",
        "  return gcd\r\n",
        "n1 = int(input(\"Enter first number:\"))\r\n",
        "n2 = int(input(\"Enter second number:\"))\r\n",
        "print(\"The gcd of the given two numbers is : \", gcd(n1,n2))"
      ],
      "execution_count": 3,
      "outputs": [
        {
          "output_type": "stream",
          "text": [
            "Enter first number:20\n",
            "Enter second number:35\n",
            "The gcd of the given two numbers is :  5\n"
          ],
          "name": "stdout"
        }
      ]
    }
  ]
}