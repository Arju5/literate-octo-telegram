{
  "nbformat": 4,
  "nbformat_minor": 0,
  "metadata": {
    "colab": {
      "name": "newtonsqrt.ipynb",
      "provenance": [],
      "collapsed_sections": [],
      "authorship_tag": "ABX9TyNCP3KYCFDBcu24LaZRGbvR",
      "include_colab_link": true
    },
    "kernelspec": {
      "name": "python3",
      "display_name": "Python 3"
    },
    "language_info": {
      "name": "python"
    }
  },
  "cells": [
    {
      "cell_type": "markdown",
      "metadata": {
        "id": "view-in-github",
        "colab_type": "text"
      },
      "source": [
        "<a href=\"https://colab.research.google.com/github/Arju5/pl-python/blob/main/newtonsqrt.ipynb\" target=\"_parent\"><img src=\"https://colab.research.google.com/assets/colab-badge.svg\" alt=\"Open In Colab\"/></a>"
      ]
    },
    {
      "cell_type": "code",
      "metadata": {
        "colab": {
          "base_uri": "https://localhost:8080/"
        },
        "id": "FNhd57puGuTj",
        "outputId": "0ca464b6-6aae-43b9-c665-c67c478c7dda"
      },
      "source": [
        "def NewtonSqrt(n):\n",
        "  approx = 0.5*n\n",
        "  better = 0.5*(approx + n/approx)\n",
        "  while(better != approx):\n",
        "    approx = better\n",
        "    better = 0.5 * (approx + n/approx)\n",
        "  return approx\n",
        "print('The square root is ', NewtonSqrt(150))"
      ],
      "execution_count": 4,
      "outputs": [
        {
          "output_type": "stream",
          "text": [
            "The square root is  12.24744871391589\n"
          ],
          "name": "stdout"
        }
      ]
    }
  ]
}