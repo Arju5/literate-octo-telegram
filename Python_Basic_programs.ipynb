{
  "nbformat": 4,
  "nbformat_minor": 0,
  "metadata": {
    "colab": {
      "name": "Python Basic programs.ipynb",
      "provenance": [],
      "collapsed_sections": [],
      "authorship_tag": "ABX9TyO9QUdOXfrJoszHMFWhHieH",
      "include_colab_link": true
    },
    "kernelspec": {
      "name": "python3",
      "display_name": "Python 3"
    },
    "language_info": {
      "name": "python"
    }
  },
  "cells": [
    {
      "cell_type": "markdown",
      "metadata": {
        "id": "view-in-github",
        "colab_type": "text"
      },
      "source": [
        "<a href=\"https://colab.research.google.com/github/Arju5/pl-python/blob/main/Python_Basic_programs.ipynb\" target=\"_parent\"><img src=\"https://colab.research.google.com/assets/colab-badge.svg\" alt=\"Open In Colab\"/></a>"
      ]
    },
    {
      "cell_type": "code",
      "metadata": {
        "colab": {
          "base_uri": "https://localhost:8080/"
        },
        "id": "0rZkfzVPIOSo",
        "outputId": "c2a4a9b0-0e18-4723-d047-2e3bcd4621bc"
      },
      "source": [
        "#Exponential of a number\n",
        "def power(b, e):\n",
        "  if(e == 1):\n",
        "    return b\n",
        "  if(e != 1):\n",
        "    return (b * power(b, e-1))\n",
        "b = int(input(\"Enter base: \"))\n",
        "e = int(input(\"Enter exp: \"))\n",
        "print(\"The Result :\", power(b,e))"
      ],
      "execution_count": null,
      "outputs": [
        {
          "output_type": "stream",
          "text": [
            "Enter base: 25\n",
            "Enter exp: 3\n",
            "The Result : 15625\n"
          ],
          "name": "stdout"
        }
      ]
    },
    {
      "cell_type": "code",
      "metadata": {
        "id": "ODYxbqZmCJoT"
      },
      "source": [
        "#Sieve of Eratosthenes\n",
        "def SieveofEratosthenes(n):\n",
        "    # Setting list of True for given range\n",
        "    prime = [True for i in range (n+1)]\n",
        "    #Starting from 2\n",
        "    p = 2\n",
        "    #Condition till this algorithm works is p*p <= n\n",
        "    while (p*p <= n):\n",
        "        if prime[p]:\n",
        "            # For all prime numbers mark its multiples with in range n as False\n",
        "            for i in range (p*p, n+1, p):\n",
        "                prime[i] = False\n",
        "        p += 1\n",
        "    #Print any range above 2\n",
        "    for i in range (2, n+1):\n",
        "        if prime[i]:\n",
        "            print(i)\n",
        "            \n",
        "\n",
        "SieveofEratosthenes(100)\n",
        "\n",
        "# Time Complexity is n*log(log(n))"
      ],
      "execution_count": null,
      "outputs": []
    },
    {
      "cell_type": "code",
      "metadata": {
        "id": "kbXWYjB0Cxc5"
      },
      "source": [
        "#Check Armstrong Number\n",
        "#Take integer argument and return boolean value\n",
        "def isArmstrong(n:int) -> bool:\n",
        "  # Put the digits of given integer into a list\n",
        "  Parts = [int(_) for _ in str(n)]\n",
        "  # Find the order of the given integer\n",
        "  order = len(str(n))\n",
        "  # Initiate sum to 0\n",
        "  sum = 0\n",
        "  # Iterate over each digit from list\n",
        "  for digit in Parts:\n",
        "    # Add product to cumulative sum \n",
        "    sum += digit ** order\n",
        "  # Return based on the Armstrong number check\n",
        "  return True if sum == n else False\n",
        "\n",
        "print(isArmstrong(407))\n",
        "print(isArmstrong(371))\n",
        "print(isArmstrong(370))"
      ],
      "execution_count": null,
      "outputs": []
    },
    {
      "cell_type": "code",
      "metadata": {
        "id": "9cd3MpbcR2Xc"
      },
      "source": [
        "# Nth Armstrong Number Check\n",
        "import sys\n",
        "def NthArmstrong(n):\n",
        "  #Initiate Counter = 0, need this to check if found Armstrong is nth Armstrong\n",
        "  counter = 0\n",
        "  print(sys.maxsize)\n",
        "  # Iterate over the range \n",
        "  for i in range (0, int(sys.maxsize/2)):\n",
        "    # Extract the dgits of i to list\n",
        "    Parts = [int(_) for _ in str(i)]\n",
        "    # Find the order of the number i\n",
        "    Order = len(str(i))\n",
        "    #Initiate sum to 0\n",
        "    sum = 0\n",
        "    for digit in Parts:\n",
        "      sum += digit ** Order\n",
        "    if(sum == i):\n",
        "      counter += 1\n",
        "    if(counter == n):\n",
        "      return i\n",
        "\n",
        "print(NthArmstrong(16))"
      ],
      "execution_count": null,
      "outputs": []
    },
    {
      "cell_type": "code",
      "metadata": {
        "id": "QXXrnjcUUbTS"
      },
      "source": [
        "#Prime Checker fast approach\n",
        "def PrimeNumbers(n):\n",
        "  for i in range (1, n):\n",
        "    if isPrime(i):\n",
        "      print(i)\n",
        "\n",
        "def isPrime(n : int) -> bool :\n",
        "  if n <= 3:\n",
        "    return n > 1\n",
        "  if n % 2 == 0 or n % 3 == 0 :\n",
        "    return False\n",
        "  i = 5\n",
        "  while i ** 2 <= n :\n",
        "    if n % i == 0 or n % (i+2) == 0:\n",
        "      return False\n",
        "    i += 6\n",
        "  return True \n",
        "\n",
        "PrimeNumbers(100)\n"
      ],
      "execution_count": null,
      "outputs": []
    },
    {
      "cell_type": "code",
      "metadata": {
        "id": "5ecybhh1oOGD"
      },
      "source": [
        "#Fibonacci series\n",
        "def FibonacciSeries(n):\n",
        "  for i in range (1, n+1):\n",
        "    print(NthFibonacci(i))\n",
        "# Nth Fibonacci number\n",
        "def NthFibonacci(n):\n",
        "  #Seed values\n",
        "  if n == 1:\n",
        "    return 0\n",
        "  elif n == 2:\n",
        "    return 1\n",
        "  else:\n",
        "    print(n)\n",
        "    print(n-1, \"-\", NthFibonacci(n-1))\n",
        "    print(n-2, \"-\", NthFibonacci(n-2))\n",
        "    return NthFibonacci(n-1) + NthFibonacci(n-2)\n",
        "\n",
        "FibonacciSeries(5)"
      ],
      "execution_count": null,
      "outputs": []
    },
    {
      "cell_type": "code",
      "metadata": {
        "id": "f1fnARI1f0RM"
      },
      "source": [
        "#Fibonacci series by storing in array\n",
        "FibArray = [0,1]\n",
        "def fibonacci(n):\n",
        "  if n < 0:\n",
        "    return \"Incorecct Input\"\n",
        "  elif n<=len(FibArray):\n",
        "    return FibArray[n-1]\n",
        "  else:\n",
        "    temp = fibonacci(n-1) + fibonacci(n-2)\n",
        "    FibArray.append(temp)\n",
        "    return temp\n",
        "\n",
        "print(fibonacci(21))"
      ],
      "execution_count": null,
      "outputs": []
    },
    {
      "cell_type": "code",
      "metadata": {
        "colab": {
          "base_uri": "https://localhost:8080/"
        },
        "id": "WhWoKW03spU0",
        "outputId": "0aaa2eb9-4d8f-4435-b673-d1f54e903b61"
      },
      "source": [
        "#Fibonacci series for successive addition\n",
        "def fibonaccibySuccessiveAddition(n):\n",
        "  a=0\n",
        "  b=1\n",
        "  if n <= 0 :\n",
        "    return \"Incorrect input\"\n",
        "  elif n == 1:\n",
        "    return a\n",
        "  elif n == 2:\n",
        "    return b\n",
        "  else:\n",
        "    for i in range (2,n):\n",
        "      c = a + b\n",
        "      a = b\n",
        "      b = c\n",
        "    return c\n",
        "\n",
        "print(fibonaccibySuccessiveAddition(9))"
      ],
      "execution_count": null,
      "outputs": [
        {
          "output_type": "stream",
          "text": [
            "21\n"
          ],
          "name": "stdout"
        }
      ]
    },
    {
      "cell_type": "code",
      "metadata": {
        "id": "aQPTBlyAvtWI",
        "colab": {
          "base_uri": "https://localhost:8080/"
        },
        "outputId": "8c918f63-3c8e-45a2-ecf0-7cac4981450d"
      },
      "source": [
        "#Fibonacci series using arrays\n",
        "def fibonacciByArray(n):\n",
        "  if n <= 0:\n",
        "    return \"Incorecct Output\"\n",
        "  data = [0,1]\n",
        "  if n > 2:\n",
        "    for i in range (2,n):\n",
        "      data.append(data[i-1] + data[i-2])\n",
        "  return data[n-1]\n",
        "\n",
        "print(fibonacciByArray(2))"
      ],
      "execution_count": null,
      "outputs": [
        {
          "output_type": "stream",
          "text": [
            "1\n"
          ],
          "name": "stdout"
        }
      ]
    },
    {
      "cell_type": "code",
      "metadata": {
        "id": "3GRJubabDFu0"
      },
      "source": [
        "# Check if a number is a Fibonacci Number\n",
        "# The condition for verifying a fibonacci number is 5*n*n - 4  \n",
        "# or 5*n*n + 4 is a perfect square\n",
        "\n",
        "import math\n",
        "\n",
        "def isPerfectSquare(n):\n",
        "  s = int(math.sqrt(n))\n",
        "  return s*s == n\n",
        "\n",
        "def isFibonacciNumber(n):\n",
        "  return isPerfectSquare(5*n*n - 4) or isPerfectSquare(5*n*n + 4)\n",
        "\n",
        "for i in range (1,40):\n",
        "  if isFibonacciNumber(i):\n",
        "    print (i,\" is a Fibonacci Number\")\n"
      ],
      "execution_count": null,
      "outputs": []
    },
    {
      "cell_type": "code",
      "metadata": {
        "id": "p7W3xHwqFFDT"
      },
      "source": [
        ""
      ],
      "execution_count": null,
      "outputs": []
    },
    {
      "cell_type": "code",
      "metadata": {
        "id": "h1feplyPDFnO"
      },
      "source": [
        ""
      ],
      "execution_count": null,
      "outputs": []
    }
  ]
}