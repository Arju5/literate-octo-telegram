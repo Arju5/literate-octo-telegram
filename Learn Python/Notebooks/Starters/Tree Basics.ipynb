{
  "cells": [
    {
      "cell_type": "markdown",
      "metadata": {
        "id": "hwLbgB8bv-ED"
      },
      "source": [
        "# Word Count\n"
      ]
    },
    {
      "cell_type": "code",
      "source": [
        "!wget https://www.dropbox.com/s/5vbyxqzj5xjkc3k/harpers_ASCII.txt"
      ],
      "metadata": {
        "id": "-FYqB1h6wMNF",
        "outputId": "6d864929-00d8-4da9-b45d-03af54047b8a",
        "colab": {
          "base_uri": "https://localhost:8080/"
        }
      },
      "execution_count": 1,
      "outputs": [
        {
          "output_type": "stream",
          "name": "stdout",
          "text": [
            "--2021-12-16 05:40:19--  https://www.dropbox.com/s/5vbyxqzj5xjkc3k/harpers_ASCII.txt\n",
            "Resolving www.dropbox.com (www.dropbox.com)... 162.125.6.18, 2620:100:6019:18::a27d:412\n",
            "Connecting to www.dropbox.com (www.dropbox.com)|162.125.6.18|:443... connected.\n",
            "HTTP request sent, awaiting response... 301 Moved Permanently\n",
            "Location: /s/raw/5vbyxqzj5xjkc3k/harpers_ASCII.txt [following]\n",
            "--2021-12-16 05:40:20--  https://www.dropbox.com/s/raw/5vbyxqzj5xjkc3k/harpers_ASCII.txt\n",
            "Reusing existing connection to www.dropbox.com:443.\n",
            "HTTP request sent, awaiting response... 302 Found\n",
            "Location: https://uc5d1a1c64e0dcb1ca405212aad4.dl.dropboxusercontent.com/cd/0/inline/Bb57CJk6NbkFy3ooIGx9zXRDtgbM71QxHD0ZhWVUVIzgiXKQAxHVyHeJ65bRplGPA47PC6oImTL9QZyN-XFTPLFv2wjcmyOUPUZsz-NY8NhKJjxIL48VwSxT2KQXT6AbWtdR552jornwhjJE6HRWEp2R/file# [following]\n",
            "--2021-12-16 05:40:20--  https://uc5d1a1c64e0dcb1ca405212aad4.dl.dropboxusercontent.com/cd/0/inline/Bb57CJk6NbkFy3ooIGx9zXRDtgbM71QxHD0ZhWVUVIzgiXKQAxHVyHeJ65bRplGPA47PC6oImTL9QZyN-XFTPLFv2wjcmyOUPUZsz-NY8NhKJjxIL48VwSxT2KQXT6AbWtdR552jornwhjJE6HRWEp2R/file\n",
            "Resolving uc5d1a1c64e0dcb1ca405212aad4.dl.dropboxusercontent.com (uc5d1a1c64e0dcb1ca405212aad4.dl.dropboxusercontent.com)... 162.125.6.15, 2620:100:601c:15::a27d:60f\n",
            "Connecting to uc5d1a1c64e0dcb1ca405212aad4.dl.dropboxusercontent.com (uc5d1a1c64e0dcb1ca405212aad4.dl.dropboxusercontent.com)|162.125.6.15|:443... connected.\n",
            "HTTP request sent, awaiting response... 200 OK\n",
            "Length: 173439 (169K) [text/plain]\n",
            "Saving to: ‘harpers_ASCII.txt’\n",
            "\n",
            "harpers_ASCII.txt   100%[===================>] 169.37K  --.-KB/s    in 0.005s  \n",
            "\n",
            "2021-12-16 05:40:20 (30.7 MB/s) - ‘harpers_ASCII.txt’ saved [173439/173439]\n",
            "\n"
          ]
        }
      ]
    },
    {
      "cell_type": "code",
      "source": [
        "f=open(\"/content/harpers_ASCII.txt\",\"r\")"
      ],
      "metadata": {
        "id": "kaOLGlGTwfv9"
      },
      "execution_count": 8,
      "outputs": []
    },
    {
      "cell_type": "code",
      "source": [
        "f"
      ],
      "metadata": {
        "id": "50zQ9a3nwwAT",
        "outputId": "69c64a7e-326c-4c3b-8b11-6c63457ba672",
        "colab": {
          "base_uri": "https://localhost:8080/"
        }
      },
      "execution_count": 4,
      "outputs": [
        {
          "output_type": "execute_result",
          "data": {
            "text/plain": [
              "<_io.TextIOWrapper name='/content/harpers_ASCII.txt' mode='r' encoding='UTF-8'>"
            ]
          },
          "metadata": {},
          "execution_count": 4
        }
      ]
    },
    {
      "cell_type": "code",
      "source": [
        "c=[]\n",
        "for x in f:\n",
        "  c.append(x.split(' '))\n",
        "\n",
        "print(len(c))"
      ],
      "metadata": {
        "id": "-oxH89vFw7Lc",
        "outputId": "b32b1e14-60cf-4c7e-8d28-9e02cbf4dbff",
        "colab": {
          "base_uri": "https://localhost:8080/"
        }
      },
      "execution_count": 9,
      "outputs": [
        {
          "output_type": "stream",
          "name": "stdout",
          "text": [
            "3939\n"
          ]
        }
      ]
    },
    {
      "cell_type": "code",
      "source": [
        "## Word Guess"
      ],
      "metadata": {
        "id": "clOsBaN0yJS7"
      },
      "execution_count": null,
      "outputs": []
    },
    {
      "cell_type": "code",
      "source": [
        "import random"
      ],
      "metadata": {
        "id": "3i3RM2HwyLJg"
      },
      "execution_count": 10,
      "outputs": []
    },
    {
      "cell_type": "code",
      "source": [
        "words = ['apple', 'oracle','amazon','microsoft','orange', 'cook', 'chair']"
      ],
      "metadata": {
        "id": "ndwtuj9kyNTQ"
      },
      "execution_count": 11,
      "outputs": []
    },
    {
      "cell_type": "code",
      "source": [
        "sys_word = random.choice(words)\n",
        "sys_word"
      ],
      "metadata": {
        "id": "LNhrSMZSydpM",
        "outputId": "4974c41e-110f-4d87-8b6e-5b02b9e9955b",
        "colab": {
          "base_uri": "https://localhost:8080/",
          "height": 35
        }
      },
      "execution_count": 13,
      "outputs": [
        {
          "output_type": "execute_result",
          "data": {
            "application/vnd.google.colaboratory.intrinsic+json": {
              "type": "string"
            },
            "text/plain": [
              "'amazon'"
            ]
          },
          "metadata": {},
          "execution_count": 13
        }
      ]
    },
    {
      "cell_type": "code",
      "source": [
        "hint = sys_word[0]+sys_word[1]\n",
        "hint"
      ],
      "metadata": {
        "id": "ANteBQHPAnHJ",
        "outputId": "9f4a70bf-bb84-4320-9fbe-c27d0d5e2849",
        "colab": {
          "base_uri": "https://localhost:8080/",
          "height": 35
        }
      },
      "execution_count": 14,
      "outputs": [
        {
          "output_type": "execute_result",
          "data": {
            "application/vnd.google.colaboratory.intrinsic+json": {
              "type": "string"
            },
            "text/plain": [
              "'am'"
            ]
          },
          "metadata": {},
          "execution_count": 14
        }
      ]
    },
    {
      "cell_type": "code",
      "source": [
        "guessed_List=[]\n",
        "try_max = 6\n",
        "a = input(\"Enter your name - \")\n",
        "print('Welcome to the guess game', a)\n",
        "print('You have got 6 attempts')"
      ],
      "metadata": {
        "id": "f8rTjoxJAyw-",
        "outputId": "3bbf11fb-9aa8-4463-e48b-5996b8706ab5",
        "colab": {
          "base_uri": "https://localhost:8080/"
        }
      },
      "execution_count": 16,
      "outputs": [
        {
          "output_type": "stream",
          "name": "stdout",
          "text": [
            "Enter your name - Arjun\n",
            "Welcome to the guess game Arjun\n",
            "You have got 6 attempts\n"
          ]
        }
      ]
    },
    {
      "cell_type": "code",
      "source": [
        ""
      ],
      "metadata": {
        "id": "MQzSDKeTBP8s"
      },
      "execution_count": null,
      "outputs": []
    }
  ],
  "metadata": {
    "kernelspec": {
      "display_name": "Python 3",
      "language": "python",
      "name": "python3"
    },
    "language_info": {
      "codemirror_mode": {
        "name": "ipython",
        "version": 3
      },
      "file_extension": ".py",
      "mimetype": "text/x-python",
      "name": "python",
      "nbconvert_exporter": "python",
      "pygments_lexer": "ipython3",
      "version": "3.9.6"
    },
    "colab": {
      "name": "workcount.ipynb",
      "provenance": []
    }
  },
  "nbformat": 4,
  "nbformat_minor": 0
}
